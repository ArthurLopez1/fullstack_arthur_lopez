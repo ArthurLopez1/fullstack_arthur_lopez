{
 "cells": [
  {
   "cell_type": "markdown",
   "metadata": {},
   "source": [
    "# Dashboard Preview\n",
    "\n",
    "- All SQL scripts, including new EDAs and queries for new tables, can be found under \"lab\\backend\\sql\\Scripts\" folder.\n",
    "- I've done some interesting discoveries on the world of Streamlit while doing this project. There's a lot more to learn and improve here but please checkout the frontend file to see a bit of my journey\n",
    "- Here I'll attach a preview of how the dashboard looks like."
   ]
  },
  {
   "cell_type": "markdown",
   "metadata": {},
   "source": [
    "![](dashboard_preview.png)"
   ]
  }
 ],
 "metadata": {
  "language_info": {
   "name": "python"
  }
 },
 "nbformat": 4,
 "nbformat_minor": 2
}
